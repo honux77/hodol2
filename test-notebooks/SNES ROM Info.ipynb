{
 "cells": [
  {
   "cell_type": "code",
   "execution_count": 1,
   "id": "optical-helen",
   "metadata": {},
   "outputs": [
    {
     "name": "stdout",
     "output_type": "stream",
     "text": [
      "Live A Live (J).smc\r\n"
     ]
    }
   ],
   "source": [
    "!ls ../test-files/"
   ]
  },
  {
   "cell_type": "code",
   "execution_count": 3,
   "id": "informal-butter",
   "metadata": {},
   "outputs": [],
   "source": [
    "fname = \"Live A Live (J).smc\"\n",
    "pathname = \"../test-files\""
   ]
  },
  {
   "cell_type": "code",
   "execution_count": 7,
   "id": "warming-bubble",
   "metadata": {},
   "outputs": [],
   "source": [
    "from os import path\n",
    "fullpath = path.join(pathname, fname)"
   ]
  },
  {
   "cell_type": "code",
   "execution_count": 6,
   "id": "fantastic-stocks",
   "metadata": {},
   "outputs": [
    {
     "data": {
      "text/plain": [
       "'../test-files/Live A Live (J).smc'"
      ]
     },
     "execution_count": 6,
     "metadata": {},
     "output_type": "execute_result"
    }
   ],
   "source": [
    "with open(full)"
   ]
  },
  {
   "cell_type": "code",
   "execution_count": null,
   "id": "prescribed-lobby",
   "metadata": {},
   "outputs": [],
   "source": []
  }
 ],
 "metadata": {
  "kernelspec": {
   "display_name": "Python 3",
   "language": "python",
   "name": "python3"
  },
  "language_info": {
   "codemirror_mode": {
    "name": "ipython",
    "version": 3
   },
   "file_extension": ".py",
   "mimetype": "text/x-python",
   "name": "python",
   "nbconvert_exporter": "python",
   "pygments_lexer": "ipython3",
   "version": "3.8.5"
  }
 },
 "nbformat": 4,
 "nbformat_minor": 5
}
