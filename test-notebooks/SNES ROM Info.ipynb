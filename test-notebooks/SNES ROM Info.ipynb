{
 "cells": [
  {
   "cell_type": "code",
   "execution_count": 1,
   "id": "optical-helen",
   "metadata": {},
   "outputs": [
    {
     "name": "stdout",
     "output_type": "stream",
     "text": [
      "Live A Live (J).smc\r\n"
     ]
    }
   ],
   "source": [
    "!ls ../test-files/"
   ]
  },
  {
   "cell_type": "code",
   "execution_count": 3,
   "id": "informal-butter",
   "metadata": {},
   "outputs": [],
   "source": [
    "# fname = \"Live A Live (J).smc\"\n",
    "pathname = \"../test-files\""
   ]
  },
  {
   "cell_type": "code",
   "execution_count": 7,
   "id": "warming-bubble",
   "metadata": {},
   "outputs": [],
   "source": [
    "from os import path\n",
    "fullpath = path.join(pathname, fname)"
   ]
  },
  {
   "cell_type": "code",
   "execution_count": 6,
   "id": "fantastic-stocks",
   "metadata": {},
   "outputs": [
    {
     "data": {
      "text/plain": [
       "'../test-files/Live A Live (J).smc'"
      ]
     },
     "execution_count": 6,
     "metadata": {},
     "output_type": "execute_result"
    }
   ],
   "source": [
    "with open(full)"
   ]
  },
  {
   "cell_type": "code",
   "execution_count": 8,
   "id": "prescribed-lobby",
   "metadata": {},
   "outputs": [
    {
     "name": "stdout",
     "output_type": "stream",
     "text": [
      "LIVE A LIVE          \n",
      "0b100001\n",
      "ROM + RAM + BAT\n",
      "ROM size: 2048 KB\n",
      "RAM size: 8 KB\n"
     ]
    }
   ],
   "source": [
    "'''\n",
    "address | length | description\n",
    "$FFC0   | 21     | Game title\n",
    "$FFD5   | 1      | Rom speed\n",
    "$FFD6   | 1      | Chipset\n",
    "$FFD7   | 1      | Rom size 1 << N KB\n",
    "$FFD8  | 1      | Ram size 1 << N KB\n",
    "'''\n",
    "\n",
    "# open file using with statement\n",
    "with open(fullpath, \"rb\") as f:\n",
    "    f.seek(0xFFC0)\n",
    "    title = f.read(21)\n",
    "    print(title.decode(\"utf-8\"))\n",
    "    f.seek(0xFFD5)\n",
    "    speed = f.read(1)\n",
    "    #print speed bit\n",
    "    print(bin(int.from_bytes(speed, byteorder=\"big\")))\n",
    "\n",
    "    f.seek(0xFFD6)\n",
    "    chipset = f.read(1)\n",
    "    if chipset == b\"\\x00\":\n",
    "        print(\"ROM only\")\n",
    "    elif chipset == b\"\\x01\":\n",
    "        print(\"ROM + RAM\")\n",
    "    elif chipset == b\"\\x02\":\n",
    "        print(\"ROM + RAM + BAT\")\n",
    "    \n",
    "    f.seek(0xFFD7)\n",
    "    rom_size = f.read(1)\n",
    "    print(\"ROM size: {} KB\".format(1 << rom_size[0]))\n",
    "    f.seek(0xFFD8)\n",
    "    ram_size = f.read(1)\n",
    "    print(\"RAM size: {} KB\".format(1 << ram_size[0]))\n"
   ]
  },
  {
   "cell_type": "code",
   "execution_count": null,
   "id": "referenced-wyoming",
   "metadata": {},
   "outputs": [],
   "source": []
  }
 ],
 "metadata": {
  "kernelspec": {
   "display_name": "Python 3",
   "language": "python",
   "name": "python3"
  },
  "language_info": {
   "codemirror_mode": {
    "name": "ipython",
    "version": 3
   },
   "file_extension": ".py",
   "mimetype": "text/x-python",
   "name": "python",
   "nbconvert_exporter": "python",
   "pygments_lexer": "ipython3",
   "version": "3.8.5"
  }
 },
 "nbformat": 4,
 "nbformat_minor": 5
}
